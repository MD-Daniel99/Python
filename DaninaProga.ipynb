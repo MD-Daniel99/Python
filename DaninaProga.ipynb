{
 "cells": [
  {
   "cell_type": "code",
   "execution_count": 16,
   "metadata": {},
   "outputs": [
    {
     "name": "stdout",
     "output_type": "stream",
     "text": [
      "80\n"
     ]
    }
   ],
   "source": [
    "class Solution:\n",
    "    \n",
    "    def romanToInt(self, s: str) -> int:\n",
    "        i=0\n",
    "        Full=0\n",
    "        RomanValue={\n",
    "            \"I\":1,\n",
    "            \"V\":5,\n",
    "            \"X\":10,\n",
    "            \"L\":50,\n",
    "            \"C\":100,\n",
    "            \"D\":500,\n",
    "            \"M\":1000,\n",
    "            \"IV\":4,\n",
    "            \"IX\":9,\n",
    "            \"XL\":40,\n",
    "            \"XC\":90,\n",
    "            \"CD\":400,\n",
    "            \"CM\":900,\n",
    "        }\n",
    "        \n",
    "        \n",
    "        while i < len(s):\n",
    "            if(i<len(s)-1):\n",
    "                if ( RomanValue.get(s[i]+s[i+1])):\n",
    "                    Full+=RomanValue.get(s[i]+s[i+1]) \n",
    "                    i+=1\n",
    "                else:\n",
    "                    Full+=RomanValue.get(s[i]) \n",
    "                    i+=1\n",
    "            else:\n",
    "                Full+=RomanValue.get(s[i]) \n",
    "                i+=1\n",
    "        \n",
    "        return Full   \n",
    "                    \n",
    "        \n",
    "        \n",
    "        \n",
    "Chislo=\"LXXX\"  \n",
    "clas=Solution()  \n",
    "Answer=clas.romanToInt(Chislo) \n",
    "print(Answer)\n"
   ]
  },
  {
   "cell_type": "code",
   "execution_count": null,
   "metadata": {},
   "outputs": [],
   "source": []
  },
  {
   "cell_type": "code",
   "execution_count": null,
   "metadata": {},
   "outputs": [],
   "source": []
  }
 ],
 "metadata": {
  "kernelspec": {
   "display_name": "Python 3",
   "language": "python",
   "name": "python3"
  },
  "language_info": {
   "codemirror_mode": {
    "name": "ipython",
    "version": 3
   },
   "file_extension": ".py",
   "mimetype": "text/x-python",
   "name": "python",
   "nbconvert_exporter": "python",
   "pygments_lexer": "ipython3",
   "version": "3.8.3"
  }
 },
 "nbformat": 4,
 "nbformat_minor": 4
}
